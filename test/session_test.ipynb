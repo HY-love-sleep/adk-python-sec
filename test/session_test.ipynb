{
 "cells": [
  {
   "metadata": {},
   "cell_type": "markdown",
   "source": "1、示例： 检查会话属性",
   "id": "e0b319c49c70615f"
  },
  {
   "metadata": {
    "ExecuteTime": {
     "end_time": "2025-09-26T06:44:53.692169Z",
     "start_time": "2025-09-26T06:44:53.668090Z"
    }
   },
   "cell_type": "code",
   "source": [
    " from google.adk.sessions import InMemorySessionService, Session\n",
    "\n",
    " # Create a simple session to examine its properties\n",
    " temp_service = InMemorySessionService()\n",
    " example_session = await temp_service.create_session(\n",
    "     app_name=\"my_app\",\n",
    "     user_id=\"example_user\",\n",
    "     state={\"initial_key\": \"initial_value\"} # State can be initialized\n",
    " )\n",
    "\n",
    " print(f\"--- Examining Session Properties ---\")\n",
    " print(f\"ID (`id`):                {example_session.id}\")\n",
    " print(f\"Application Name (`app_name`): {example_session.app_name}\")\n",
    " print(f\"User ID (`user_id`):         {example_session.user_id}\")\n",
    " print(f\"State (`state`):           {example_session.state}\") # Note: Only shows initial state here\n",
    " print(f\"Events (`events`):         {example_session.events}\") # Initially empty\n",
    " print(f\"Last Update (`last_update_time`): {example_session.last_update_time:.2f}\")\n",
    " print(f\"---------------------------------\")\n",
    "\n",
    " # Clean up (optional for this example)\n",
    " temp_service = await temp_service.delete_session(app_name=example_session.app_name,\n",
    "                             user_id=example_session.user_id, session_id=example_session.id)\n",
    " print(\"The final status of temp_service - \", temp_service)"
   ],
   "id": "f07cb3a1829bd159",
   "outputs": [
    {
     "name": "stdout",
     "output_type": "stream",
     "text": [
      "--- Examining Session Properties ---\n",
      "ID (`id`):                5e2f58da-dcd5-4cb6-b7e3-b68fa1683d0f\n",
      "Application Name (`app_name`): my_app\n",
      "User ID (`user_id`):         example_user\n",
      "State (`state`):           {'initial_key': 'initial_value'}\n",
      "Events (`events`):         []\n",
      "Last Update (`last_update_time`): 1758869093.69\n",
      "---------------------------------\n",
      "The final status of temp_service -  None\n"
     ]
    }
   ],
   "execution_count": 2
  },
  {
   "metadata": {},
   "cell_type": "markdown",
   "source": [
    "2、更新state\n",
    "注意， 千万不要通过session_service.get_session()直接获取session上的session.state 集合， 并进行修改\n",
    "- 绕过事件历史：更改不会被记录为 Event ，导致可审计性丧失。\n",
    "- 断开持久性：通过这种方式进行的更改可能不会被 DatabaseSessionService 或 VertexAiSessionService 保存。它们依赖于 append_event 来触发保存。\n",
    "- 非线程安全：可能导致竞态条件和更新丢失。\n",
    "- 忽略时间戳/逻辑：不更新 last_update_time 或触发相关事件逻辑。\n",
    "\n",
    "正确的更新方式\n",
    "- 简单方法： output_key （用于agent文本响应）\n",
    "- 标准方式： EventActions.state_delta （用于复杂更新）\n",
    "- 通过 CallbackContext 或 ToolContext （推荐用于回调和工具）\n"
   ],
   "id": "f2bf004b3c34a190"
  },
  {
   "metadata": {
    "ExecuteTime": {
     "end_time": "2025-09-26T06:54:04.045902Z",
     "start_time": "2025-09-26T06:54:03.992082Z"
    }
   },
   "cell_type": "code",
   "source": [
    "from google.adk.sessions import InMemorySessionService, Session\n",
    "from google.adk.events import Event, EventActions\n",
    "from google.genai.types import Part, Content\n",
    "import time\n",
    "\n",
    "# --- Setup ---\n",
    "session_service = InMemorySessionService()\n",
    "app_name, user_id, session_id = \"state_app_manual\", \"user2\", \"session2\"\n",
    "session = await session_service.create_session(\n",
    "    app_name=app_name,\n",
    "    user_id=user_id,\n",
    "    session_id=session_id,\n",
    "    state={\"user:login_count\": 0, \"task_status\": \"idle\"}\n",
    ")\n",
    "print(f\"Initial state: {session.state}\")\n",
    "\n",
    "# --- Define State Changes ---\n",
    "current_time = time.time()\n",
    "state_changes = {\n",
    "    \"task_status\": \"active\",              # Update session state\n",
    "    \"user:login_count\": session.state.get(\"user:login_count\", 0) + 1, # Update user state\n",
    "    \"user:last_login_ts\": current_time,   # Add user state\n",
    "    \"temp:validation_needed\": True        # Add temporary state (will be discarded)\n",
    "}\n",
    "\n",
    "# --- Create Event with Actions ---\n",
    "actions_with_update = EventActions(state_delta=state_changes)\n",
    "# This event might represent an internal system action, not just an agent response\n",
    "system_event = Event(\n",
    "    invocation_id=\"inv_login_update\",\n",
    "    author=\"system\", # Or 'agent', 'tool' etc.\n",
    "    actions=actions_with_update,\n",
    "    timestamp=current_time\n",
    "    # content might be None or represent the action taken\n",
    ")\n",
    "\n",
    "# --- Append the Event (This updates the state) ---\n",
    "await session_service.append_event(session, system_event)\n",
    "print(\"`append_event` called with explicit state delta.\")\n",
    "\n",
    "# --- Check Updated State ---\n",
    "updated_session = await session_service.get_session(app_name=app_name,\n",
    "                                            user_id=user_id,\n",
    "                                            session_id=session_id)\n",
    "print(f\"State after event: {updated_session.state}\")\n",
    "# Expected: {'user:login_count': 1, 'task_status': 'active', 'user:last_login_ts': <timestamp>}\n",
    "# Note: 'temp:validation_needed' is NOT present."
   ],
   "id": "964622fdf1123824",
   "outputs": [
    {
     "name": "stdout",
     "output_type": "stream",
     "text": [
      "Initial state: {'user:login_count': 0, 'task_status': 'idle'}\n",
      "`append_event` called with explicit state delta.\n",
      "State after event: {'user:login_count': 1, 'task_status': 'active', 'user:last_login_ts': 1758869644.0315967}\n"
     ]
    }
   ],
   "execution_count": 3
  },
  {
   "metadata": {},
   "cell_type": "markdown",
   "source": "3、InMemoryMemoryService 进行基本流程的示例",
   "id": "b30d58ba6d5b012a"
  },
  {
   "metadata": {
    "ExecuteTime": {
     "end_time": "2025-09-26T07:36:42.513038Z",
     "start_time": "2025-09-26T07:36:36.427669Z"
    }
   },
   "cell_type": "code",
   "source": [
    "import os\n",
    "os.environ[\"GOOGLE_API_KEY\"] = \"get yours\"\n",
    "from google.adk.agents import LlmAgent\n",
    "from google.adk.sessions import InMemorySessionService, Session\n",
    "from google.adk.memory import InMemoryMemoryService # Import MemoryService\n",
    "from google.adk.runners import Runner\n",
    "from google.adk.tools import load_memory # Tool to query memory\n",
    "from google.genai.types import Content, Part\n",
    "\n",
    "# --- Constants ---\n",
    "APP_NAME = \"memory_example_app\"\n",
    "USER_ID = \"mem_user\"\n",
    "MODEL = \"gemini-2.0-flash\" # Use a valid model\n",
    "\n",
    "# --- Agent Definitions ---\n",
    "# Agent 1: Simple agent to capture information\n",
    "info_capture_agent = LlmAgent(\n",
    "    model=MODEL,\n",
    "    name=\"InfoCaptureAgent\",\n",
    "    instruction=\"Acknowledge the user's statement.\",\n",
    ")\n",
    "\n",
    "# Agent 2: Agent that can use memory\n",
    "memory_recall_agent = LlmAgent(\n",
    "    model=MODEL,\n",
    "    name=\"MemoryRecallAgent\",\n",
    "    instruction=\"Answer the user's question. Use the 'load_memory' tool \"\n",
    "                \"if the answer might be in past conversations.\",\n",
    "    tools=[load_memory] # Give the agent the tool\n",
    ")\n",
    "\n",
    "# --- Services ---\n",
    "# Services must be shared across runners to share state and memory\n",
    "session_service = InMemorySessionService()\n",
    "memory_service = InMemoryMemoryService() # Use in-memory for demo\n",
    "\n",
    "async def run_scenario():\n",
    "    # --- Scenario ---\n",
    "\n",
    "    # Turn 1: Capture some information in a session\n",
    "    print(\"--- Turn 1: Capturing Information ---\")\n",
    "    runner1 = Runner(\n",
    "        # Start with the info capture agent\n",
    "        agent=info_capture_agent,\n",
    "        app_name=APP_NAME,\n",
    "        session_service=session_service,\n",
    "        memory_service=memory_service # Provide the memory service to the Runner\n",
    "    )\n",
    "    session1_id = \"session_info\"\n",
    "    await runner1.session_service.create_session(app_name=APP_NAME, user_id=USER_ID, session_id=session1_id)\n",
    "    user_input1 = Content(parts=[Part(text=\"My favorite project is Project Alpha.\")], role=\"user\")\n",
    "\n",
    "    # Run the agent\n",
    "    final_response_text = \"(No final response)\"\n",
    "    async for event in runner1.run_async(user_id=USER_ID, session_id=session1_id, new_message=user_input1):\n",
    "        if event.is_final_response() and event.content and event.content.parts:\n",
    "            final_response_text = event.content.parts[0].text\n",
    "    print(f\"Agent 1 Response: {final_response_text}\")\n",
    "\n",
    "    # Get the completed session\n",
    "    completed_session1 = await runner1.session_service.get_session(app_name=APP_NAME, user_id=USER_ID, session_id=session1_id)\n",
    "\n",
    "    # Add this session's content to the Memory Service\n",
    "    print(\"\\n--- Adding Session 1 to Memory ---\")\n",
    "    await memory_service.add_session_to_memory(completed_session1)\n",
    "    print(\"Session added to memory.\")\n",
    "\n",
    "    # Turn 2: Recall the information in a new session\n",
    "    print(\"\\n--- Turn 2: Recalling Information ---\")\n",
    "    runner2 = Runner(\n",
    "        # Use the second agent, which has the memory tool\n",
    "        agent=memory_recall_agent,\n",
    "        app_name=APP_NAME,\n",
    "        session_service=session_service, # Reuse the same service\n",
    "        memory_service=memory_service   # Reuse the same service\n",
    "    )\n",
    "    session2_id = \"session_recall\"\n",
    "    await runner2.session_service.create_session(app_name=APP_NAME, user_id=USER_ID, session_id=session2_id)\n",
    "    user_input2 = Content(parts=[Part(text=\"What is my favorite project?\")], role=\"user\")\n",
    "\n",
    "    # Run the second agent\n",
    "    final_response_text_2 = \"(No final response)\"\n",
    "    async for event in runner2.run_async(user_id=USER_ID, session_id=session2_id, new_message=user_input2):\n",
    "        if event.is_final_response() and event.content and event.content.parts:\n",
    "            final_response_text_2 = event.content.parts[0].text\n",
    "    print(f\"Agent 2 Response: {final_response_text_2}\")\n",
    "\n",
    "# To run this example, you can use the following snippet:\n",
    "# asyncio.run(run_scenario())\n",
    "\n",
    "await run_scenario()"
   ],
   "id": "f37b35c53fae00ce",
   "outputs": [
    {
     "name": "stdout",
     "output_type": "stream",
     "text": [
      "--- Turn 1: Capturing Information ---\n",
      "Agent 1 Response: Okay, I understand. Your favorite project is Project Alpha.\n",
      "\n",
      "\n",
      "--- Adding Session 1 to Memory ---\n",
      "Session added to memory.\n",
      "\n",
      "--- Turn 2: Recalling Information ---\n"
     ]
    },
    {
     "name": "stderr",
     "output_type": "stream",
     "text": [
      "Warning: there are non-text parts in the response: ['function_call'], returning concatenated text result from text parts. Check the full candidates.content.parts accessor to get the full model response.\n"
     ]
    },
    {
     "name": "stdout",
     "output_type": "stream",
     "text": [
      "Agent 2 Response: Your favorite project is Project Alpha.\n",
      "\n"
     ]
    }
   ],
   "execution_count": 11
  }
 ],
 "metadata": {
  "kernelspec": {
   "display_name": "Python 3",
   "language": "python",
   "name": "python3"
  },
  "language_info": {
   "codemirror_mode": {
    "name": "ipython",
    "version": 2
   },
   "file_extension": ".py",
   "mimetype": "text/x-python",
   "name": "python",
   "nbconvert_exporter": "python",
   "pygments_lexer": "ipython2",
   "version": "2.7.6"
  }
 },
 "nbformat": 4,
 "nbformat_minor": 5
}
